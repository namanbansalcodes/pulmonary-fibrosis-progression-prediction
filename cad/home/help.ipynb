{
 "metadata": {
  "language_info": {
   "codemirror_mode": {
    "name": "ipython",
    "version": 3
   },
   "file_extension": ".py",
   "mimetype": "text/x-python",
   "name": "python",
   "nbconvert_exporter": "python",
   "pygments_lexer": "ipython3",
   "version": "3.7.4"
  },
  "orig_nbformat": 2,
  "kernelspec": {
   "name": "python3",
   "display_name": "Python 3.7.4 64-bit ('base': conda)",
   "metadata": {
    "interpreter": {
     "hash": "b3ba2566441a7c06988d0923437866b63cedc61552a5af99d1f4fb67d367b25f"
    }
   }
  }
 },
 "nbformat": 4,
 "nbformat_minor": 2,
 "cells": [
  {
   "cell_type": "code",
   "execution_count": 1,
   "metadata": {},
   "outputs": [],
   "source": [
    "import tensorflow as tf\n",
    "import tensorflow_hub as hub\n",
    "tf.keras.backend.clear_session()"
   ]
  },
  {
   "cell_type": "code",
   "execution_count": 20,
   "metadata": {},
   "outputs": [],
   "source": [
    "m = tf.keras.Sequential([\n",
    "    tf.keras.layers.Input(shape=(512,512,3)),\n",
    "    hub.KerasLayer(\"https://tfhub.dev/tensorflow/efficientnet/b6/feature-vector/1\",\n",
    "                   trainable=False),  # Can be True, see below.\n",
    "    tf.keras.layers.Dense(7, activation='relu')\n",
    "])\n",
    "m.build([None, 512, 512, 3])"
   ]
  },
  {
   "cell_type": "code",
   "execution_count": null,
   "metadata": {},
   "outputs": [],
   "source": [
    "m.save('./effnet')"
   ]
  },
  {
   "cell_type": "code",
   "execution_count": 10,
   "metadata": {},
   "outputs": [
    {
     "output_type": "stream",
     "name": "stdout",
     "text": [
      "[98, 12, 7, 97, 57, 54, 79, 50, 81, 43, 4, 97, 73, 37, 1, 71, 77, 31, 25, 53, 72, 45, 50, 86, 74, 44, 47, 24]\n"
     ]
    }
   ],
   "source": [
    "import numpy as np\n",
    "import random\n",
    "result=[]\n",
    "for i in range(28):\n",
    "    result.append(random.randint(0,100))\n",
    "print(result)"
   ]
  },
  {
   "cell_type": "code",
   "execution_count": 7,
   "metadata": {},
   "outputs": [
    {
     "output_type": "stream",
     "name": "stdout",
     "text": [
      "[[96, 56, 17, 29, 22, 33, 9]]\n[[96, 56, 17, 29, 22, 33, 9], [73, 43, 43, 32, 48, 79, 12]]\n[[96, 56, 17, 29, 22, 33, 9], [73, 43, 43, 32, 48, 79, 12], [69, 73, 20, 1, 88, 99, 15]]\n[[96, 56, 17, 29, 22, 33, 9], [73, 43, 43, 32, 48, 79, 12], [69, 73, 20, 1, 88, 99, 15], [86, 51, 9, 60, 1, 81, 3]]\n"
     ]
    }
   ],
   "source": [
    "eff_features=[]\n",
    "for i in range(0,len(result),7):\n",
    "    eff_features.append(result[i:i+7])\n",
    "    print(eff_features)\n"
   ]
  },
  {
   "cell_type": "code",
   "execution_count": 14,
   "metadata": {},
   "outputs": [],
   "source": [
    "eff=np.mean(eff_features,axis=0)"
   ]
  },
  {
   "cell_type": "code",
   "execution_count": 18,
   "metadata": {},
   "outputs": [
    {
     "output_type": "execute_result",
     "data": {
      "text/plain": [
       "array([81.  , 55.75, 22.25, 30.5 , 39.75, 73.  ,  9.75])"
      ]
     },
     "metadata": {},
     "execution_count": 18
    }
   ],
   "source": [
    "eff"
   ]
  },
  {
   "cell_type": "code",
   "execution_count": 30,
   "metadata": {},
   "outputs": [],
   "source": [
    "import pandas as pd\n",
    "\n",
    "d={'baseweek': [2], 'basepercent': [1], 'basefvc': [2000], 'current_week': [1], 'diff': [1], 'age': [1], 'sex': [1], 'smoking': [1], 'area': [976800], 'psr': [0.820312], 'psc': [0.820312], 'st': [1.25], 'ww': [-1500], 'wl': [-500], 'rd': [902.3432], 'cd': [728.437056], 'acm': [6573.002241096193], 'volcm': [821.6252801370241], 'e0': [0.16609275341033936], 'e1': [0.0], 'e2': [0.007620945572853088], 'e3': [0.013979997086737837], 'e4': [0.0], 'e5': [0.0], 'e6': [0.0]}\n",
    "\n",
    "d=pd.DataFrame(d)"
   ]
  },
  {
   "cell_type": "code",
   "execution_count": 31,
   "metadata": {},
   "outputs": [
    {
     "output_type": "execute_result",
     "data": {
      "text/plain": [
       "   baseweek  basepercent  basefvc  current_week  diff  age  sex  smoking  \\\n",
       "0         2            1     2000             1     1    1    1        1   \n",
       "\n",
       "     area       psr  ...          cd          acm      volcm        e0   e1  \\\n",
       "0  976800  0.820312  ...  728.437056  6573.002241  821.62528  0.166093  0.0   \n",
       "\n",
       "         e2       e3   e4   e5   e6  \n",
       "0  0.007621  0.01398  0.0  0.0  0.0  \n",
       "\n",
       "[1 rows x 25 columns]"
      ],
      "text/html": "<div>\n<style scoped>\n    .dataframe tbody tr th:only-of-type {\n        vertical-align: middle;\n    }\n\n    .dataframe tbody tr th {\n        vertical-align: top;\n    }\n\n    .dataframe thead th {\n        text-align: right;\n    }\n</style>\n<table border=\"1\" class=\"dataframe\">\n  <thead>\n    <tr style=\"text-align: right;\">\n      <th></th>\n      <th>baseweek</th>\n      <th>basepercent</th>\n      <th>basefvc</th>\n      <th>current_week</th>\n      <th>diff</th>\n      <th>age</th>\n      <th>sex</th>\n      <th>smoking</th>\n      <th>area</th>\n      <th>psr</th>\n      <th>...</th>\n      <th>cd</th>\n      <th>acm</th>\n      <th>volcm</th>\n      <th>e0</th>\n      <th>e1</th>\n      <th>e2</th>\n      <th>e3</th>\n      <th>e4</th>\n      <th>e5</th>\n      <th>e6</th>\n    </tr>\n  </thead>\n  <tbody>\n    <tr>\n      <td>0</td>\n      <td>2</td>\n      <td>1</td>\n      <td>2000</td>\n      <td>1</td>\n      <td>1</td>\n      <td>1</td>\n      <td>1</td>\n      <td>1</td>\n      <td>976800</td>\n      <td>0.820312</td>\n      <td>...</td>\n      <td>728.437056</td>\n      <td>6573.002241</td>\n      <td>821.62528</td>\n      <td>0.166093</td>\n      <td>0.0</td>\n      <td>0.007621</td>\n      <td>0.01398</td>\n      <td>0.0</td>\n      <td>0.0</td>\n      <td>0.0</td>\n    </tr>\n  </tbody>\n</table>\n<p>1 rows × 25 columns</p>\n</div>"
     },
     "metadata": {},
     "execution_count": 31
    }
   ],
   "source": [
    "d"
   ]
  },
  {
   "cell_type": "code",
   "execution_count": 34,
   "metadata": {},
   "outputs": [
    {
     "output_type": "execute_result",
     "data": {
      "text/plain": [
       "   baseweek  basepercent  basefvc  current_week  diff  age  sex  smoking  \\\n",
       "0         2            1     2000             1     1    1    1        1   \n",
       "0         2            1     2000             1     1    1    1        1   \n",
       "0         2            1     2000             1     1    1    1        1   \n",
       "0         2            1     2000             1     1    1    1        1   \n",
       "0         2            1     2000             1     1    1    1        1   \n",
       "0         2            1     2000             1     1    1    1        1   \n",
       "0         2            1     2000             1     1    1    1        1   \n",
       "0         2            1     2000             1     1    1    1        1   \n",
       "0         2            1     2000             1     1    1    1        1   \n",
       "0         2            1     2000             1     1    1    1        1   \n",
       "0         2            1     2000             1     1    1    1        1   \n",
       "0         2            1     2000             1     1    1    1        1   \n",
       "0         2            1     2000             1     1    1    1        1   \n",
       "0         2            1     2000             1     1    1    1        1   \n",
       "0         2            1     2000             1     1    1    1        1   \n",
       "0         2            1     2000             1     1    1    1        1   \n",
       "0         2            1     2000             1     1    1    1        1   \n",
       "0         2            1     2000             1     1    1    1        1   \n",
       "0         2            1     2000             1     1    1    1        1   \n",
       "0         2            1     2000             1     1    1    1        1   \n",
       "0         2            1     2000             1     1    1    1        1   \n",
       "0         2            1     2000             1     1    1    1        1   \n",
       "0         2            1     2000             1     1    1    1        1   \n",
       "0         2            1     2000             1     1    1    1        1   \n",
       "0         2            1     2000             1     1    1    1        1   \n",
       "0         2            1     2000             1     1    1    1        1   \n",
       "0         2            1     2000             1     1    1    1        1   \n",
       "0         2            1     2000             1     1    1    1        1   \n",
       "0         2            1     2000             1     1    1    1        1   \n",
       "0         2            1     2000             1     1    1    1        1   \n",
       "0         2            1     2000             1     1    1    1        1   \n",
       "0         2            1     2000             1     1    1    1        1   \n",
       "0         2            1     2000             1     1    1    1        1   \n",
       "0         2            1     2000             1     1    1    1        1   \n",
       "0         2            1     2000             1     1    1    1        1   \n",
       "0         2            1     2000             1     1    1    1        1   \n",
       "0         2            1     2000             1     1    1    1        1   \n",
       "0         2            1     2000             1     1    1    1        1   \n",
       "0         2            1     2000             1     1    1    1        1   \n",
       "0         2            1     2000             1     1    1    1        1   \n",
       "0         2            1     2000             1     1    1    1        1   \n",
       "0         2            1     2000             1     1    1    1        1   \n",
       "0         2            1     2000             1     1    1    1        1   \n",
       "0         2            1     2000             1     1    1    1        1   \n",
       "0         2            1     2000             1     1    1    1        1   \n",
       "0         2            1     2000             1     1    1    1        1   \n",
       "0         2            1     2000             1     1    1    1        1   \n",
       "0         2            1     2000             1     1    1    1        1   \n",
       "0         2            1     2000             1     1    1    1        1   \n",
       "0         2            1     2000             1     1    1    1        1   \n",
       "\n",
       "     area       psr  ...          cd          acm      volcm        e0   e1  \\\n",
       "0  976800  0.820312  ...  728.437056  6573.002241  821.62528  0.166093  0.0   \n",
       "0  976800  0.820312  ...  728.437056  6573.002241  821.62528  0.166093  0.0   \n",
       "0  976800  0.820312  ...  728.437056  6573.002241  821.62528  0.166093  0.0   \n",
       "0  976800  0.820312  ...  728.437056  6573.002241  821.62528  0.166093  0.0   \n",
       "0  976800  0.820312  ...  728.437056  6573.002241  821.62528  0.166093  0.0   \n",
       "0  976800  0.820312  ...  728.437056  6573.002241  821.62528  0.166093  0.0   \n",
       "0  976800  0.820312  ...  728.437056  6573.002241  821.62528  0.166093  0.0   \n",
       "0  976800  0.820312  ...  728.437056  6573.002241  821.62528  0.166093  0.0   \n",
       "0  976800  0.820312  ...  728.437056  6573.002241  821.62528  0.166093  0.0   \n",
       "0  976800  0.820312  ...  728.437056  6573.002241  821.62528  0.166093  0.0   \n",
       "0  976800  0.820312  ...  728.437056  6573.002241  821.62528  0.166093  0.0   \n",
       "0  976800  0.820312  ...  728.437056  6573.002241  821.62528  0.166093  0.0   \n",
       "0  976800  0.820312  ...  728.437056  6573.002241  821.62528  0.166093  0.0   \n",
       "0  976800  0.820312  ...  728.437056  6573.002241  821.62528  0.166093  0.0   \n",
       "0  976800  0.820312  ...  728.437056  6573.002241  821.62528  0.166093  0.0   \n",
       "0  976800  0.820312  ...  728.437056  6573.002241  821.62528  0.166093  0.0   \n",
       "0  976800  0.820312  ...  728.437056  6573.002241  821.62528  0.166093  0.0   \n",
       "0  976800  0.820312  ...  728.437056  6573.002241  821.62528  0.166093  0.0   \n",
       "0  976800  0.820312  ...  728.437056  6573.002241  821.62528  0.166093  0.0   \n",
       "0  976800  0.820312  ...  728.437056  6573.002241  821.62528  0.166093  0.0   \n",
       "0  976800  0.820312  ...  728.437056  6573.002241  821.62528  0.166093  0.0   \n",
       "0  976800  0.820312  ...  728.437056  6573.002241  821.62528  0.166093  0.0   \n",
       "0  976800  0.820312  ...  728.437056  6573.002241  821.62528  0.166093  0.0   \n",
       "0  976800  0.820312  ...  728.437056  6573.002241  821.62528  0.166093  0.0   \n",
       "0  976800  0.820312  ...  728.437056  6573.002241  821.62528  0.166093  0.0   \n",
       "0  976800  0.820312  ...  728.437056  6573.002241  821.62528  0.166093  0.0   \n",
       "0  976800  0.820312  ...  728.437056  6573.002241  821.62528  0.166093  0.0   \n",
       "0  976800  0.820312  ...  728.437056  6573.002241  821.62528  0.166093  0.0   \n",
       "0  976800  0.820312  ...  728.437056  6573.002241  821.62528  0.166093  0.0   \n",
       "0  976800  0.820312  ...  728.437056  6573.002241  821.62528  0.166093  0.0   \n",
       "0  976800  0.820312  ...  728.437056  6573.002241  821.62528  0.166093  0.0   \n",
       "0  976800  0.820312  ...  728.437056  6573.002241  821.62528  0.166093  0.0   \n",
       "0  976800  0.820312  ...  728.437056  6573.002241  821.62528  0.166093  0.0   \n",
       "0  976800  0.820312  ...  728.437056  6573.002241  821.62528  0.166093  0.0   \n",
       "0  976800  0.820312  ...  728.437056  6573.002241  821.62528  0.166093  0.0   \n",
       "0  976800  0.820312  ...  728.437056  6573.002241  821.62528  0.166093  0.0   \n",
       "0  976800  0.820312  ...  728.437056  6573.002241  821.62528  0.166093  0.0   \n",
       "0  976800  0.820312  ...  728.437056  6573.002241  821.62528  0.166093  0.0   \n",
       "0  976800  0.820312  ...  728.437056  6573.002241  821.62528  0.166093  0.0   \n",
       "0  976800  0.820312  ...  728.437056  6573.002241  821.62528  0.166093  0.0   \n",
       "0  976800  0.820312  ...  728.437056  6573.002241  821.62528  0.166093  0.0   \n",
       "0  976800  0.820312  ...  728.437056  6573.002241  821.62528  0.166093  0.0   \n",
       "0  976800  0.820312  ...  728.437056  6573.002241  821.62528  0.166093  0.0   \n",
       "0  976800  0.820312  ...  728.437056  6573.002241  821.62528  0.166093  0.0   \n",
       "0  976800  0.820312  ...  728.437056  6573.002241  821.62528  0.166093  0.0   \n",
       "0  976800  0.820312  ...  728.437056  6573.002241  821.62528  0.166093  0.0   \n",
       "0  976800  0.820312  ...  728.437056  6573.002241  821.62528  0.166093  0.0   \n",
       "0  976800  0.820312  ...  728.437056  6573.002241  821.62528  0.166093  0.0   \n",
       "0  976800  0.820312  ...  728.437056  6573.002241  821.62528  0.166093  0.0   \n",
       "0  976800  0.820312  ...  728.437056  6573.002241  821.62528  0.166093  0.0   \n",
       "\n",
       "         e2       e3   e4   e5   e6  \n",
       "0  0.007621  0.01398  0.0  0.0  0.0  \n",
       "0  0.007621  0.01398  0.0  0.0  0.0  \n",
       "0  0.007621  0.01398  0.0  0.0  0.0  \n",
       "0  0.007621  0.01398  0.0  0.0  0.0  \n",
       "0  0.007621  0.01398  0.0  0.0  0.0  \n",
       "0  0.007621  0.01398  0.0  0.0  0.0  \n",
       "0  0.007621  0.01398  0.0  0.0  0.0  \n",
       "0  0.007621  0.01398  0.0  0.0  0.0  \n",
       "0  0.007621  0.01398  0.0  0.0  0.0  \n",
       "0  0.007621  0.01398  0.0  0.0  0.0  \n",
       "0  0.007621  0.01398  0.0  0.0  0.0  \n",
       "0  0.007621  0.01398  0.0  0.0  0.0  \n",
       "0  0.007621  0.01398  0.0  0.0  0.0  \n",
       "0  0.007621  0.01398  0.0  0.0  0.0  \n",
       "0  0.007621  0.01398  0.0  0.0  0.0  \n",
       "0  0.007621  0.01398  0.0  0.0  0.0  \n",
       "0  0.007621  0.01398  0.0  0.0  0.0  \n",
       "0  0.007621  0.01398  0.0  0.0  0.0  \n",
       "0  0.007621  0.01398  0.0  0.0  0.0  \n",
       "0  0.007621  0.01398  0.0  0.0  0.0  \n",
       "0  0.007621  0.01398  0.0  0.0  0.0  \n",
       "0  0.007621  0.01398  0.0  0.0  0.0  \n",
       "0  0.007621  0.01398  0.0  0.0  0.0  \n",
       "0  0.007621  0.01398  0.0  0.0  0.0  \n",
       "0  0.007621  0.01398  0.0  0.0  0.0  \n",
       "0  0.007621  0.01398  0.0  0.0  0.0  \n",
       "0  0.007621  0.01398  0.0  0.0  0.0  \n",
       "0  0.007621  0.01398  0.0  0.0  0.0  \n",
       "0  0.007621  0.01398  0.0  0.0  0.0  \n",
       "0  0.007621  0.01398  0.0  0.0  0.0  \n",
       "0  0.007621  0.01398  0.0  0.0  0.0  \n",
       "0  0.007621  0.01398  0.0  0.0  0.0  \n",
       "0  0.007621  0.01398  0.0  0.0  0.0  \n",
       "0  0.007621  0.01398  0.0  0.0  0.0  \n",
       "0  0.007621  0.01398  0.0  0.0  0.0  \n",
       "0  0.007621  0.01398  0.0  0.0  0.0  \n",
       "0  0.007621  0.01398  0.0  0.0  0.0  \n",
       "0  0.007621  0.01398  0.0  0.0  0.0  \n",
       "0  0.007621  0.01398  0.0  0.0  0.0  \n",
       "0  0.007621  0.01398  0.0  0.0  0.0  \n",
       "0  0.007621  0.01398  0.0  0.0  0.0  \n",
       "0  0.007621  0.01398  0.0  0.0  0.0  \n",
       "0  0.007621  0.01398  0.0  0.0  0.0  \n",
       "0  0.007621  0.01398  0.0  0.0  0.0  \n",
       "0  0.007621  0.01398  0.0  0.0  0.0  \n",
       "0  0.007621  0.01398  0.0  0.0  0.0  \n",
       "0  0.007621  0.01398  0.0  0.0  0.0  \n",
       "0  0.007621  0.01398  0.0  0.0  0.0  \n",
       "0  0.007621  0.01398  0.0  0.0  0.0  \n",
       "0  0.007621  0.01398  0.0  0.0  0.0  \n",
       "\n",
       "[50 rows x 25 columns]"
      ],
      "text/html": "<div>\n<style scoped>\n    .dataframe tbody tr th:only-of-type {\n        vertical-align: middle;\n    }\n\n    .dataframe tbody tr th {\n        vertical-align: top;\n    }\n\n    .dataframe thead th {\n        text-align: right;\n    }\n</style>\n<table border=\"1\" class=\"dataframe\">\n  <thead>\n    <tr style=\"text-align: right;\">\n      <th></th>\n      <th>baseweek</th>\n      <th>basepercent</th>\n      <th>basefvc</th>\n      <th>current_week</th>\n      <th>diff</th>\n      <th>age</th>\n      <th>sex</th>\n      <th>smoking</th>\n      <th>area</th>\n      <th>psr</th>\n      <th>...</th>\n      <th>cd</th>\n      <th>acm</th>\n      <th>volcm</th>\n      <th>e0</th>\n      <th>e1</th>\n      <th>e2</th>\n      <th>e3</th>\n      <th>e4</th>\n      <th>e5</th>\n      <th>e6</th>\n    </tr>\n  </thead>\n  <tbody>\n    <tr>\n      <td>0</td>\n      <td>2</td>\n      <td>1</td>\n      <td>2000</td>\n      <td>1</td>\n      <td>1</td>\n      <td>1</td>\n      <td>1</td>\n      <td>1</td>\n      <td>976800</td>\n      <td>0.820312</td>\n      <td>...</td>\n      <td>728.437056</td>\n      <td>6573.002241</td>\n      <td>821.62528</td>\n      <td>0.166093</td>\n      <td>0.0</td>\n      <td>0.007621</td>\n      <td>0.01398</td>\n      <td>0.0</td>\n      <td>0.0</td>\n      <td>0.0</td>\n    </tr>\n    <tr>\n      <td>0</td>\n      <td>2</td>\n      <td>1</td>\n      <td>2000</td>\n      <td>1</td>\n      <td>1</td>\n      <td>1</td>\n      <td>1</td>\n      <td>1</td>\n      <td>976800</td>\n      <td>0.820312</td>\n      <td>...</td>\n      <td>728.437056</td>\n      <td>6573.002241</td>\n      <td>821.62528</td>\n      <td>0.166093</td>\n      <td>0.0</td>\n      <td>0.007621</td>\n      <td>0.01398</td>\n      <td>0.0</td>\n      <td>0.0</td>\n      <td>0.0</td>\n    </tr>\n    <tr>\n      <td>0</td>\n      <td>2</td>\n      <td>1</td>\n      <td>2000</td>\n      <td>1</td>\n      <td>1</td>\n      <td>1</td>\n      <td>1</td>\n      <td>1</td>\n      <td>976800</td>\n      <td>0.820312</td>\n      <td>...</td>\n      <td>728.437056</td>\n      <td>6573.002241</td>\n      <td>821.62528</td>\n      <td>0.166093</td>\n      <td>0.0</td>\n      <td>0.007621</td>\n      <td>0.01398</td>\n      <td>0.0</td>\n      <td>0.0</td>\n      <td>0.0</td>\n    </tr>\n    <tr>\n      <td>0</td>\n      <td>2</td>\n      <td>1</td>\n      <td>2000</td>\n      <td>1</td>\n      <td>1</td>\n      <td>1</td>\n      <td>1</td>\n      <td>1</td>\n      <td>976800</td>\n      <td>0.820312</td>\n      <td>...</td>\n      <td>728.437056</td>\n      <td>6573.002241</td>\n      <td>821.62528</td>\n      <td>0.166093</td>\n      <td>0.0</td>\n      <td>0.007621</td>\n      <td>0.01398</td>\n      <td>0.0</td>\n      <td>0.0</td>\n      <td>0.0</td>\n    </tr>\n    <tr>\n      <td>0</td>\n      <td>2</td>\n      <td>1</td>\n      <td>2000</td>\n      <td>1</td>\n      <td>1</td>\n      <td>1</td>\n      <td>1</td>\n      <td>1</td>\n      <td>976800</td>\n      <td>0.820312</td>\n      <td>...</td>\n      <td>728.437056</td>\n      <td>6573.002241</td>\n      <td>821.62528</td>\n      <td>0.166093</td>\n      <td>0.0</td>\n      <td>0.007621</td>\n      <td>0.01398</td>\n      <td>0.0</td>\n      <td>0.0</td>\n      <td>0.0</td>\n    </tr>\n    <tr>\n      <td>0</td>\n      <td>2</td>\n      <td>1</td>\n      <td>2000</td>\n      <td>1</td>\n      <td>1</td>\n      <td>1</td>\n      <td>1</td>\n      <td>1</td>\n      <td>976800</td>\n      <td>0.820312</td>\n      <td>...</td>\n      <td>728.437056</td>\n      <td>6573.002241</td>\n      <td>821.62528</td>\n      <td>0.166093</td>\n      <td>0.0</td>\n      <td>0.007621</td>\n      <td>0.01398</td>\n      <td>0.0</td>\n      <td>0.0</td>\n      <td>0.0</td>\n    </tr>\n    <tr>\n      <td>0</td>\n      <td>2</td>\n      <td>1</td>\n      <td>2000</td>\n      <td>1</td>\n      <td>1</td>\n      <td>1</td>\n      <td>1</td>\n      <td>1</td>\n      <td>976800</td>\n      <td>0.820312</td>\n      <td>...</td>\n      <td>728.437056</td>\n      <td>6573.002241</td>\n      <td>821.62528</td>\n      <td>0.166093</td>\n      <td>0.0</td>\n      <td>0.007621</td>\n      <td>0.01398</td>\n      <td>0.0</td>\n      <td>0.0</td>\n      <td>0.0</td>\n    </tr>\n    <tr>\n      <td>0</td>\n      <td>2</td>\n      <td>1</td>\n      <td>2000</td>\n      <td>1</td>\n      <td>1</td>\n      <td>1</td>\n      <td>1</td>\n      <td>1</td>\n      <td>976800</td>\n      <td>0.820312</td>\n      <td>...</td>\n      <td>728.437056</td>\n      <td>6573.002241</td>\n      <td>821.62528</td>\n      <td>0.166093</td>\n      <td>0.0</td>\n      <td>0.007621</td>\n      <td>0.01398</td>\n      <td>0.0</td>\n      <td>0.0</td>\n      <td>0.0</td>\n    </tr>\n    <tr>\n      <td>0</td>\n      <td>2</td>\n      <td>1</td>\n      <td>2000</td>\n      <td>1</td>\n      <td>1</td>\n      <td>1</td>\n      <td>1</td>\n      <td>1</td>\n      <td>976800</td>\n      <td>0.820312</td>\n      <td>...</td>\n      <td>728.437056</td>\n      <td>6573.002241</td>\n      <td>821.62528</td>\n      <td>0.166093</td>\n      <td>0.0</td>\n      <td>0.007621</td>\n      <td>0.01398</td>\n      <td>0.0</td>\n      <td>0.0</td>\n      <td>0.0</td>\n    </tr>\n    <tr>\n      <td>0</td>\n      <td>2</td>\n      <td>1</td>\n      <td>2000</td>\n      <td>1</td>\n      <td>1</td>\n      <td>1</td>\n      <td>1</td>\n      <td>1</td>\n      <td>976800</td>\n      <td>0.820312</td>\n      <td>...</td>\n      <td>728.437056</td>\n      <td>6573.002241</td>\n      <td>821.62528</td>\n      <td>0.166093</td>\n      <td>0.0</td>\n      <td>0.007621</td>\n      <td>0.01398</td>\n      <td>0.0</td>\n      <td>0.0</td>\n      <td>0.0</td>\n    </tr>\n    <tr>\n      <td>0</td>\n      <td>2</td>\n      <td>1</td>\n      <td>2000</td>\n      <td>1</td>\n      <td>1</td>\n      <td>1</td>\n      <td>1</td>\n      <td>1</td>\n      <td>976800</td>\n      <td>0.820312</td>\n      <td>...</td>\n      <td>728.437056</td>\n      <td>6573.002241</td>\n      <td>821.62528</td>\n      <td>0.166093</td>\n      <td>0.0</td>\n      <td>0.007621</td>\n      <td>0.01398</td>\n      <td>0.0</td>\n      <td>0.0</td>\n      <td>0.0</td>\n    </tr>\n    <tr>\n      <td>0</td>\n      <td>2</td>\n      <td>1</td>\n      <td>2000</td>\n      <td>1</td>\n      <td>1</td>\n      <td>1</td>\n      <td>1</td>\n      <td>1</td>\n      <td>976800</td>\n      <td>0.820312</td>\n      <td>...</td>\n      <td>728.437056</td>\n      <td>6573.002241</td>\n      <td>821.62528</td>\n      <td>0.166093</td>\n      <td>0.0</td>\n      <td>0.007621</td>\n      <td>0.01398</td>\n      <td>0.0</td>\n      <td>0.0</td>\n      <td>0.0</td>\n    </tr>\n    <tr>\n      <td>0</td>\n      <td>2</td>\n      <td>1</td>\n      <td>2000</td>\n      <td>1</td>\n      <td>1</td>\n      <td>1</td>\n      <td>1</td>\n      <td>1</td>\n      <td>976800</td>\n      <td>0.820312</td>\n      <td>...</td>\n      <td>728.437056</td>\n      <td>6573.002241</td>\n      <td>821.62528</td>\n      <td>0.166093</td>\n      <td>0.0</td>\n      <td>0.007621</td>\n      <td>0.01398</td>\n      <td>0.0</td>\n      <td>0.0</td>\n      <td>0.0</td>\n    </tr>\n    <tr>\n      <td>0</td>\n      <td>2</td>\n      <td>1</td>\n      <td>2000</td>\n      <td>1</td>\n      <td>1</td>\n      <td>1</td>\n      <td>1</td>\n      <td>1</td>\n      <td>976800</td>\n      <td>0.820312</td>\n      <td>...</td>\n      <td>728.437056</td>\n      <td>6573.002241</td>\n      <td>821.62528</td>\n      <td>0.166093</td>\n      <td>0.0</td>\n      <td>0.007621</td>\n      <td>0.01398</td>\n      <td>0.0</td>\n      <td>0.0</td>\n      <td>0.0</td>\n    </tr>\n    <tr>\n      <td>0</td>\n      <td>2</td>\n      <td>1</td>\n      <td>2000</td>\n      <td>1</td>\n      <td>1</td>\n      <td>1</td>\n      <td>1</td>\n      <td>1</td>\n      <td>976800</td>\n      <td>0.820312</td>\n      <td>...</td>\n      <td>728.437056</td>\n      <td>6573.002241</td>\n      <td>821.62528</td>\n      <td>0.166093</td>\n      <td>0.0</td>\n      <td>0.007621</td>\n      <td>0.01398</td>\n      <td>0.0</td>\n      <td>0.0</td>\n      <td>0.0</td>\n    </tr>\n    <tr>\n      <td>0</td>\n      <td>2</td>\n      <td>1</td>\n      <td>2000</td>\n      <td>1</td>\n      <td>1</td>\n      <td>1</td>\n      <td>1</td>\n      <td>1</td>\n      <td>976800</td>\n      <td>0.820312</td>\n      <td>...</td>\n      <td>728.437056</td>\n      <td>6573.002241</td>\n      <td>821.62528</td>\n      <td>0.166093</td>\n      <td>0.0</td>\n      <td>0.007621</td>\n      <td>0.01398</td>\n      <td>0.0</td>\n      <td>0.0</td>\n      <td>0.0</td>\n    </tr>\n    <tr>\n      <td>0</td>\n      <td>2</td>\n      <td>1</td>\n      <td>2000</td>\n      <td>1</td>\n      <td>1</td>\n      <td>1</td>\n      <td>1</td>\n      <td>1</td>\n      <td>976800</td>\n      <td>0.820312</td>\n      <td>...</td>\n      <td>728.437056</td>\n      <td>6573.002241</td>\n      <td>821.62528</td>\n      <td>0.166093</td>\n      <td>0.0</td>\n      <td>0.007621</td>\n      <td>0.01398</td>\n      <td>0.0</td>\n      <td>0.0</td>\n      <td>0.0</td>\n    </tr>\n    <tr>\n      <td>0</td>\n      <td>2</td>\n      <td>1</td>\n      <td>2000</td>\n      <td>1</td>\n      <td>1</td>\n      <td>1</td>\n      <td>1</td>\n      <td>1</td>\n      <td>976800</td>\n      <td>0.820312</td>\n      <td>...</td>\n      <td>728.437056</td>\n      <td>6573.002241</td>\n      <td>821.62528</td>\n      <td>0.166093</td>\n      <td>0.0</td>\n      <td>0.007621</td>\n      <td>0.01398</td>\n      <td>0.0</td>\n      <td>0.0</td>\n      <td>0.0</td>\n    </tr>\n    <tr>\n      <td>0</td>\n      <td>2</td>\n      <td>1</td>\n      <td>2000</td>\n      <td>1</td>\n      <td>1</td>\n      <td>1</td>\n      <td>1</td>\n      <td>1</td>\n      <td>976800</td>\n      <td>0.820312</td>\n      <td>...</td>\n      <td>728.437056</td>\n      <td>6573.002241</td>\n      <td>821.62528</td>\n      <td>0.166093</td>\n      <td>0.0</td>\n      <td>0.007621</td>\n      <td>0.01398</td>\n      <td>0.0</td>\n      <td>0.0</td>\n      <td>0.0</td>\n    </tr>\n    <tr>\n      <td>0</td>\n      <td>2</td>\n      <td>1</td>\n      <td>2000</td>\n      <td>1</td>\n      <td>1</td>\n      <td>1</td>\n      <td>1</td>\n      <td>1</td>\n      <td>976800</td>\n      <td>0.820312</td>\n      <td>...</td>\n      <td>728.437056</td>\n      <td>6573.002241</td>\n      <td>821.62528</td>\n      <td>0.166093</td>\n      <td>0.0</td>\n      <td>0.007621</td>\n      <td>0.01398</td>\n      <td>0.0</td>\n      <td>0.0</td>\n      <td>0.0</td>\n    </tr>\n    <tr>\n      <td>0</td>\n      <td>2</td>\n      <td>1</td>\n      <td>2000</td>\n      <td>1</td>\n      <td>1</td>\n      <td>1</td>\n      <td>1</td>\n      <td>1</td>\n      <td>976800</td>\n      <td>0.820312</td>\n      <td>...</td>\n      <td>728.437056</td>\n      <td>6573.002241</td>\n      <td>821.62528</td>\n      <td>0.166093</td>\n      <td>0.0</td>\n      <td>0.007621</td>\n      <td>0.01398</td>\n      <td>0.0</td>\n      <td>0.0</td>\n      <td>0.0</td>\n    </tr>\n    <tr>\n      <td>0</td>\n      <td>2</td>\n      <td>1</td>\n      <td>2000</td>\n      <td>1</td>\n      <td>1</td>\n      <td>1</td>\n      <td>1</td>\n      <td>1</td>\n      <td>976800</td>\n      <td>0.820312</td>\n      <td>...</td>\n      <td>728.437056</td>\n      <td>6573.002241</td>\n      <td>821.62528</td>\n      <td>0.166093</td>\n      <td>0.0</td>\n      <td>0.007621</td>\n      <td>0.01398</td>\n      <td>0.0</td>\n      <td>0.0</td>\n      <td>0.0</td>\n    </tr>\n    <tr>\n      <td>0</td>\n      <td>2</td>\n      <td>1</td>\n      <td>2000</td>\n      <td>1</td>\n      <td>1</td>\n      <td>1</td>\n      <td>1</td>\n      <td>1</td>\n      <td>976800</td>\n      <td>0.820312</td>\n      <td>...</td>\n      <td>728.437056</td>\n      <td>6573.002241</td>\n      <td>821.62528</td>\n      <td>0.166093</td>\n      <td>0.0</td>\n      <td>0.007621</td>\n      <td>0.01398</td>\n      <td>0.0</td>\n      <td>0.0</td>\n      <td>0.0</td>\n    </tr>\n    <tr>\n      <td>0</td>\n      <td>2</td>\n      <td>1</td>\n      <td>2000</td>\n      <td>1</td>\n      <td>1</td>\n      <td>1</td>\n      <td>1</td>\n      <td>1</td>\n      <td>976800</td>\n      <td>0.820312</td>\n      <td>...</td>\n      <td>728.437056</td>\n      <td>6573.002241</td>\n      <td>821.62528</td>\n      <td>0.166093</td>\n      <td>0.0</td>\n      <td>0.007621</td>\n      <td>0.01398</td>\n      <td>0.0</td>\n      <td>0.0</td>\n      <td>0.0</td>\n    </tr>\n    <tr>\n      <td>0</td>\n      <td>2</td>\n      <td>1</td>\n      <td>2000</td>\n      <td>1</td>\n      <td>1</td>\n      <td>1</td>\n      <td>1</td>\n      <td>1</td>\n      <td>976800</td>\n      <td>0.820312</td>\n      <td>...</td>\n      <td>728.437056</td>\n      <td>6573.002241</td>\n      <td>821.62528</td>\n      <td>0.166093</td>\n      <td>0.0</td>\n      <td>0.007621</td>\n      <td>0.01398</td>\n      <td>0.0</td>\n      <td>0.0</td>\n      <td>0.0</td>\n    </tr>\n    <tr>\n      <td>0</td>\n      <td>2</td>\n      <td>1</td>\n      <td>2000</td>\n      <td>1</td>\n      <td>1</td>\n      <td>1</td>\n      <td>1</td>\n      <td>1</td>\n      <td>976800</td>\n      <td>0.820312</td>\n      <td>...</td>\n      <td>728.437056</td>\n      <td>6573.002241</td>\n      <td>821.62528</td>\n      <td>0.166093</td>\n      <td>0.0</td>\n      <td>0.007621</td>\n      <td>0.01398</td>\n      <td>0.0</td>\n      <td>0.0</td>\n      <td>0.0</td>\n    </tr>\n    <tr>\n      <td>0</td>\n      <td>2</td>\n      <td>1</td>\n      <td>2000</td>\n      <td>1</td>\n      <td>1</td>\n      <td>1</td>\n      <td>1</td>\n      <td>1</td>\n      <td>976800</td>\n      <td>0.820312</td>\n      <td>...</td>\n      <td>728.437056</td>\n      <td>6573.002241</td>\n      <td>821.62528</td>\n      <td>0.166093</td>\n      <td>0.0</td>\n      <td>0.007621</td>\n      <td>0.01398</td>\n      <td>0.0</td>\n      <td>0.0</td>\n      <td>0.0</td>\n    </tr>\n    <tr>\n      <td>0</td>\n      <td>2</td>\n      <td>1</td>\n      <td>2000</td>\n      <td>1</td>\n      <td>1</td>\n      <td>1</td>\n      <td>1</td>\n      <td>1</td>\n      <td>976800</td>\n      <td>0.820312</td>\n      <td>...</td>\n      <td>728.437056</td>\n      <td>6573.002241</td>\n      <td>821.62528</td>\n      <td>0.166093</td>\n      <td>0.0</td>\n      <td>0.007621</td>\n      <td>0.01398</td>\n      <td>0.0</td>\n      <td>0.0</td>\n      <td>0.0</td>\n    </tr>\n    <tr>\n      <td>0</td>\n      <td>2</td>\n      <td>1</td>\n      <td>2000</td>\n      <td>1</td>\n      <td>1</td>\n      <td>1</td>\n      <td>1</td>\n      <td>1</td>\n      <td>976800</td>\n      <td>0.820312</td>\n      <td>...</td>\n      <td>728.437056</td>\n      <td>6573.002241</td>\n      <td>821.62528</td>\n      <td>0.166093</td>\n      <td>0.0</td>\n      <td>0.007621</td>\n      <td>0.01398</td>\n      <td>0.0</td>\n      <td>0.0</td>\n      <td>0.0</td>\n    </tr>\n    <tr>\n      <td>0</td>\n      <td>2</td>\n      <td>1</td>\n      <td>2000</td>\n      <td>1</td>\n      <td>1</td>\n      <td>1</td>\n      <td>1</td>\n      <td>1</td>\n      <td>976800</td>\n      <td>0.820312</td>\n      <td>...</td>\n      <td>728.437056</td>\n      <td>6573.002241</td>\n      <td>821.62528</td>\n      <td>0.166093</td>\n      <td>0.0</td>\n      <td>0.007621</td>\n      <td>0.01398</td>\n      <td>0.0</td>\n      <td>0.0</td>\n      <td>0.0</td>\n    </tr>\n    <tr>\n      <td>0</td>\n      <td>2</td>\n      <td>1</td>\n      <td>2000</td>\n      <td>1</td>\n      <td>1</td>\n      <td>1</td>\n      <td>1</td>\n      <td>1</td>\n      <td>976800</td>\n      <td>0.820312</td>\n      <td>...</td>\n      <td>728.437056</td>\n      <td>6573.002241</td>\n      <td>821.62528</td>\n      <td>0.166093</td>\n      <td>0.0</td>\n      <td>0.007621</td>\n      <td>0.01398</td>\n      <td>0.0</td>\n      <td>0.0</td>\n      <td>0.0</td>\n    </tr>\n    <tr>\n      <td>0</td>\n      <td>2</td>\n      <td>1</td>\n      <td>2000</td>\n      <td>1</td>\n      <td>1</td>\n      <td>1</td>\n      <td>1</td>\n      <td>1</td>\n      <td>976800</td>\n      <td>0.820312</td>\n      <td>...</td>\n      <td>728.437056</td>\n      <td>6573.002241</td>\n      <td>821.62528</td>\n      <td>0.166093</td>\n      <td>0.0</td>\n      <td>0.007621</td>\n      <td>0.01398</td>\n      <td>0.0</td>\n      <td>0.0</td>\n      <td>0.0</td>\n    </tr>\n    <tr>\n      <td>0</td>\n      <td>2</td>\n      <td>1</td>\n      <td>2000</td>\n      <td>1</td>\n      <td>1</td>\n      <td>1</td>\n      <td>1</td>\n      <td>1</td>\n      <td>976800</td>\n      <td>0.820312</td>\n      <td>...</td>\n      <td>728.437056</td>\n      <td>6573.002241</td>\n      <td>821.62528</td>\n      <td>0.166093</td>\n      <td>0.0</td>\n      <td>0.007621</td>\n      <td>0.01398</td>\n      <td>0.0</td>\n      <td>0.0</td>\n      <td>0.0</td>\n    </tr>\n    <tr>\n      <td>0</td>\n      <td>2</td>\n      <td>1</td>\n      <td>2000</td>\n      <td>1</td>\n      <td>1</td>\n      <td>1</td>\n      <td>1</td>\n      <td>1</td>\n      <td>976800</td>\n      <td>0.820312</td>\n      <td>...</td>\n      <td>728.437056</td>\n      <td>6573.002241</td>\n      <td>821.62528</td>\n      <td>0.166093</td>\n      <td>0.0</td>\n      <td>0.007621</td>\n      <td>0.01398</td>\n      <td>0.0</td>\n      <td>0.0</td>\n      <td>0.0</td>\n    </tr>\n    <tr>\n      <td>0</td>\n      <td>2</td>\n      <td>1</td>\n      <td>2000</td>\n      <td>1</td>\n      <td>1</td>\n      <td>1</td>\n      <td>1</td>\n      <td>1</td>\n      <td>976800</td>\n      <td>0.820312</td>\n      <td>...</td>\n      <td>728.437056</td>\n      <td>6573.002241</td>\n      <td>821.62528</td>\n      <td>0.166093</td>\n      <td>0.0</td>\n      <td>0.007621</td>\n      <td>0.01398</td>\n      <td>0.0</td>\n      <td>0.0</td>\n      <td>0.0</td>\n    </tr>\n    <tr>\n      <td>0</td>\n      <td>2</td>\n      <td>1</td>\n      <td>2000</td>\n      <td>1</td>\n      <td>1</td>\n      <td>1</td>\n      <td>1</td>\n      <td>1</td>\n      <td>976800</td>\n      <td>0.820312</td>\n      <td>...</td>\n      <td>728.437056</td>\n      <td>6573.002241</td>\n      <td>821.62528</td>\n      <td>0.166093</td>\n      <td>0.0</td>\n      <td>0.007621</td>\n      <td>0.01398</td>\n      <td>0.0</td>\n      <td>0.0</td>\n      <td>0.0</td>\n    </tr>\n    <tr>\n      <td>0</td>\n      <td>2</td>\n      <td>1</td>\n      <td>2000</td>\n      <td>1</td>\n      <td>1</td>\n      <td>1</td>\n      <td>1</td>\n      <td>1</td>\n      <td>976800</td>\n      <td>0.820312</td>\n      <td>...</td>\n      <td>728.437056</td>\n      <td>6573.002241</td>\n      <td>821.62528</td>\n      <td>0.166093</td>\n      <td>0.0</td>\n      <td>0.007621</td>\n      <td>0.01398</td>\n      <td>0.0</td>\n      <td>0.0</td>\n      <td>0.0</td>\n    </tr>\n    <tr>\n      <td>0</td>\n      <td>2</td>\n      <td>1</td>\n      <td>2000</td>\n      <td>1</td>\n      <td>1</td>\n      <td>1</td>\n      <td>1</td>\n      <td>1</td>\n      <td>976800</td>\n      <td>0.820312</td>\n      <td>...</td>\n      <td>728.437056</td>\n      <td>6573.002241</td>\n      <td>821.62528</td>\n      <td>0.166093</td>\n      <td>0.0</td>\n      <td>0.007621</td>\n      <td>0.01398</td>\n      <td>0.0</td>\n      <td>0.0</td>\n      <td>0.0</td>\n    </tr>\n    <tr>\n      <td>0</td>\n      <td>2</td>\n      <td>1</td>\n      <td>2000</td>\n      <td>1</td>\n      <td>1</td>\n      <td>1</td>\n      <td>1</td>\n      <td>1</td>\n      <td>976800</td>\n      <td>0.820312</td>\n      <td>...</td>\n      <td>728.437056</td>\n      <td>6573.002241</td>\n      <td>821.62528</td>\n      <td>0.166093</td>\n      <td>0.0</td>\n      <td>0.007621</td>\n      <td>0.01398</td>\n      <td>0.0</td>\n      <td>0.0</td>\n      <td>0.0</td>\n    </tr>\n    <tr>\n      <td>0</td>\n      <td>2</td>\n      <td>1</td>\n      <td>2000</td>\n      <td>1</td>\n      <td>1</td>\n      <td>1</td>\n      <td>1</td>\n      <td>1</td>\n      <td>976800</td>\n      <td>0.820312</td>\n      <td>...</td>\n      <td>728.437056</td>\n      <td>6573.002241</td>\n      <td>821.62528</td>\n      <td>0.166093</td>\n      <td>0.0</td>\n      <td>0.007621</td>\n      <td>0.01398</td>\n      <td>0.0</td>\n      <td>0.0</td>\n      <td>0.0</td>\n    </tr>\n    <tr>\n      <td>0</td>\n      <td>2</td>\n      <td>1</td>\n      <td>2000</td>\n      <td>1</td>\n      <td>1</td>\n      <td>1</td>\n      <td>1</td>\n      <td>1</td>\n      <td>976800</td>\n      <td>0.820312</td>\n      <td>...</td>\n      <td>728.437056</td>\n      <td>6573.002241</td>\n      <td>821.62528</td>\n      <td>0.166093</td>\n      <td>0.0</td>\n      <td>0.007621</td>\n      <td>0.01398</td>\n      <td>0.0</td>\n      <td>0.0</td>\n      <td>0.0</td>\n    </tr>\n    <tr>\n      <td>0</td>\n      <td>2</td>\n      <td>1</td>\n      <td>2000</td>\n      <td>1</td>\n      <td>1</td>\n      <td>1</td>\n      <td>1</td>\n      <td>1</td>\n      <td>976800</td>\n      <td>0.820312</td>\n      <td>...</td>\n      <td>728.437056</td>\n      <td>6573.002241</td>\n      <td>821.62528</td>\n      <td>0.166093</td>\n      <td>0.0</td>\n      <td>0.007621</td>\n      <td>0.01398</td>\n      <td>0.0</td>\n      <td>0.0</td>\n      <td>0.0</td>\n    </tr>\n    <tr>\n      <td>0</td>\n      <td>2</td>\n      <td>1</td>\n      <td>2000</td>\n      <td>1</td>\n      <td>1</td>\n      <td>1</td>\n      <td>1</td>\n      <td>1</td>\n      <td>976800</td>\n      <td>0.820312</td>\n      <td>...</td>\n      <td>728.437056</td>\n      <td>6573.002241</td>\n      <td>821.62528</td>\n      <td>0.166093</td>\n      <td>0.0</td>\n      <td>0.007621</td>\n      <td>0.01398</td>\n      <td>0.0</td>\n      <td>0.0</td>\n      <td>0.0</td>\n    </tr>\n    <tr>\n      <td>0</td>\n      <td>2</td>\n      <td>1</td>\n      <td>2000</td>\n      <td>1</td>\n      <td>1</td>\n      <td>1</td>\n      <td>1</td>\n      <td>1</td>\n      <td>976800</td>\n      <td>0.820312</td>\n      <td>...</td>\n      <td>728.437056</td>\n      <td>6573.002241</td>\n      <td>821.62528</td>\n      <td>0.166093</td>\n      <td>0.0</td>\n      <td>0.007621</td>\n      <td>0.01398</td>\n      <td>0.0</td>\n      <td>0.0</td>\n      <td>0.0</td>\n    </tr>\n    <tr>\n      <td>0</td>\n      <td>2</td>\n      <td>1</td>\n      <td>2000</td>\n      <td>1</td>\n      <td>1</td>\n      <td>1</td>\n      <td>1</td>\n      <td>1</td>\n      <td>976800</td>\n      <td>0.820312</td>\n      <td>...</td>\n      <td>728.437056</td>\n      <td>6573.002241</td>\n      <td>821.62528</td>\n      <td>0.166093</td>\n      <td>0.0</td>\n      <td>0.007621</td>\n      <td>0.01398</td>\n      <td>0.0</td>\n      <td>0.0</td>\n      <td>0.0</td>\n    </tr>\n    <tr>\n      <td>0</td>\n      <td>2</td>\n      <td>1</td>\n      <td>2000</td>\n      <td>1</td>\n      <td>1</td>\n      <td>1</td>\n      <td>1</td>\n      <td>1</td>\n      <td>976800</td>\n      <td>0.820312</td>\n      <td>...</td>\n      <td>728.437056</td>\n      <td>6573.002241</td>\n      <td>821.62528</td>\n      <td>0.166093</td>\n      <td>0.0</td>\n      <td>0.007621</td>\n      <td>0.01398</td>\n      <td>0.0</td>\n      <td>0.0</td>\n      <td>0.0</td>\n    </tr>\n    <tr>\n      <td>0</td>\n      <td>2</td>\n      <td>1</td>\n      <td>2000</td>\n      <td>1</td>\n      <td>1</td>\n      <td>1</td>\n      <td>1</td>\n      <td>1</td>\n      <td>976800</td>\n      <td>0.820312</td>\n      <td>...</td>\n      <td>728.437056</td>\n      <td>6573.002241</td>\n      <td>821.62528</td>\n      <td>0.166093</td>\n      <td>0.0</td>\n      <td>0.007621</td>\n      <td>0.01398</td>\n      <td>0.0</td>\n      <td>0.0</td>\n      <td>0.0</td>\n    </tr>\n    <tr>\n      <td>0</td>\n      <td>2</td>\n      <td>1</td>\n      <td>2000</td>\n      <td>1</td>\n      <td>1</td>\n      <td>1</td>\n      <td>1</td>\n      <td>1</td>\n      <td>976800</td>\n      <td>0.820312</td>\n      <td>...</td>\n      <td>728.437056</td>\n      <td>6573.002241</td>\n      <td>821.62528</td>\n      <td>0.166093</td>\n      <td>0.0</td>\n      <td>0.007621</td>\n      <td>0.01398</td>\n      <td>0.0</td>\n      <td>0.0</td>\n      <td>0.0</td>\n    </tr>\n    <tr>\n      <td>0</td>\n      <td>2</td>\n      <td>1</td>\n      <td>2000</td>\n      <td>1</td>\n      <td>1</td>\n      <td>1</td>\n      <td>1</td>\n      <td>1</td>\n      <td>976800</td>\n      <td>0.820312</td>\n      <td>...</td>\n      <td>728.437056</td>\n      <td>6573.002241</td>\n      <td>821.62528</td>\n      <td>0.166093</td>\n      <td>0.0</td>\n      <td>0.007621</td>\n      <td>0.01398</td>\n      <td>0.0</td>\n      <td>0.0</td>\n      <td>0.0</td>\n    </tr>\n    <tr>\n      <td>0</td>\n      <td>2</td>\n      <td>1</td>\n      <td>2000</td>\n      <td>1</td>\n      <td>1</td>\n      <td>1</td>\n      <td>1</td>\n      <td>1</td>\n      <td>976800</td>\n      <td>0.820312</td>\n      <td>...</td>\n      <td>728.437056</td>\n      <td>6573.002241</td>\n      <td>821.62528</td>\n      <td>0.166093</td>\n      <td>0.0</td>\n      <td>0.007621</td>\n      <td>0.01398</td>\n      <td>0.0</td>\n      <td>0.0</td>\n      <td>0.0</td>\n    </tr>\n  </tbody>\n</table>\n<p>50 rows × 25 columns</p>\n</div>"
     },
     "metadata": {},
     "execution_count": 34
    }
   ],
   "source": [
    "datadf = pd.concat([d]*50,ignore_index=False)\n",
    "current_week = datadf['current_week'][0]\n",
    "\n",
    "for i in range(50):\n",
    "    datadf['current_week']"
   ]
  }
 ]
}